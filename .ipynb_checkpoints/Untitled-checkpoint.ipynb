{
 "cells": [
  {
   "cell_type": "markdown",
   "metadata": {},
   "source": [
    "这组数据简单把数据分为两部分house_train,house_test训练样本和测试样本。\n",
    "\n",
    "其中kriging插值的均方根误差为9436.17"
   ]
  },
  {
   "cell_type": "code",
   "execution_count": 9,
   "metadata": {},
   "outputs": [
    {
     "data": {
      "text/plain": [
       "Index(['id', 'price', 'longitude', 'latitude'], dtype='object')"
      ]
     },
     "execution_count": 9,
     "metadata": {},
     "output_type": "execute_result"
    }
   ],
   "source": [
    "import pandas as pd\n",
    "import numpy as np\n",
    "\n",
    "data = pd.read_csv(r\"E:\\12. githubR\\Machine-learning-geostatistics\\house.csv\")\n",
    "data.columns"
   ]
  },
  {
   "cell_type": "code",
   "execution_count": null,
   "metadata": {},
   "outputs": [],
   "source": [
    "# 数据处理过程\n",
    "house_train = data.sample(frac=0.8)\n",
    "rowlist = []\n",
    "for index in house_train.index:\n",
    "    rowlist.append(index)\n",
    "house_test = data.drop(rowlist,axis=0)\n",
    "house_train.to_csv(r\"E:\\12. githubR\\Machine-learning-geostatistics\\house_train.csv\")\n",
    "house_test.to_csv(r\"E:\\12. githubR\\Machine-learning-geostatistics\\house_test.csv\")"
   ]
  },
  {
   "cell_type": "code",
   "execution_count": 2,
   "metadata": {},
   "outputs": [],
   "source": [
    "# 然后尝试第一篇paper中的方法，他找到每个点最近邻的5个点，然后将x,y,dist,△sin,△cos,这5个特征来训练样本，dist是5个临近点的距离均值；\n",
    "# 后面俩是评价sin和cos。首先我们要得到这个5个特征。\n",
    "import arcpy\n",
    "house_train = r\"E:\\12. githubR\\Machine-learning-geostatistics\\group1\\group1.gdb\\train\"\n",
    "house_test = r\"E:\\12. githubR\\Machine-learning-geostatistics\\group1\\group1.gdb\\test\"\n",
    "house_full = r\"D:\\workspace\\normal\\geostatistic\\geostatistic.gdb\\train_Merge\""
   ]
  },
  {
   "cell_type": "code",
   "execution_count": 37,
   "metadata": {},
   "outputs": [],
   "source": [
    "# 这里我们用arcgis提供的接口，获取数据每个点周围最近的10个点的平均距离，平均sin和平均cos\n",
    "import math\n",
    "with arcpy.da.UpdateCursor(house_train,[\"SHAPE@\",\"dist\",\"sin\",\"cos\"]) as cursor:\n",
    "    for row in cursor:\n",
    "        arcpy.Delete_management(\"in_memory/try\")\n",
    "        arcpy.GenerateNearTable_analysis(row[0], house_full, \"in_memory/try\", 0.2, \"LOCATION\", \"ANGLE\", \"ALL\", 10)\n",
    "        with arcpy.da.SearchCursor(\"in_memory/try\",[\"NEAR_DIST\",\"NEAR_ANGLE\"]) as cursor1:\n",
    "            dist = 0\n",
    "            angle = 0\n",
    "            for row1 in cursor1:\n",
    "                dist += row1[0]\n",
    "                angle += row1[1]\n",
    "        row[1] = dist/10\n",
    "        row[2] = math.sin(angle/10)\n",
    "        row[3] = math.cos(angle/10)\n",
    "        cursor.updateRow(row)"
   ]
  },
  {
   "cell_type": "code",
   "execution_count": 49,
   "metadata": {},
   "outputs": [],
   "source": [
    "# 用同样的方法，我们也处理一下test数据集。\n",
    "import math\n",
    "del cursor,cursor1\n",
    "with arcpy.da.UpdateCursor(house_test,[\"SHAPE@\",\"dist\",\"sin\",\"cos\"]) as cursor:\n",
    "    for row in cursor:\n",
    "        arcpy.Delete_management(\"in_memory/try\")\n",
    "        arcpy.GenerateNearTable_analysis(row[0], house_full, \"in_memory/try\", 0.2, \"LOCATION\", \"ANGLE\", \"ALL\", 10)\n",
    "        with arcpy.da.SearchCursor(\"in_memory/try\",[\"NEAR_DIST\",\"NEAR_ANGLE\"]) as cursor1:\n",
    "            dist = 0\n",
    "            angle = 0\n",
    "            for row1 in cursor1:\n",
    "                dist += row1[0]\n",
    "                angle += row1[1]\n",
    "        row[1] = dist/10\n",
    "        row[2] = math.sin(angle/10)\n",
    "        row[3] = math.cos(angle/10)\n",
    "        cursor.updateRow(row)"
   ]
  },
  {
   "cell_type": "code",
   "execution_count": 23,
   "metadata": {},
   "outputs": [
    {
     "data": {
      "text/plain": [
       "((2322, 5), (2322,), (580, 5))"
      ]
     },
     "execution_count": 23,
     "metadata": {},
     "output_type": "execute_result"
    }
   ],
   "source": [
    "# 现在数据的特征做好了，然后开始机器学习过程。\n",
    "import pandas as pd\n",
    "x_train = pd.DataFrame(arcpy.da.FeatureClassToNumPyArray(house_train,(\"longitude\",\"latitude\",\"dist\",\"cos\",\"sin\",\"price\"))).drop(\"price\",1)\n",
    "y_train = pd.DataFrame(arcpy.da.FeatureClassToNumPyArray(house_train,(\"longitude\",\"latitude\",\"dist\",\"cos\",\"sin\",\"price\")))[\"price\"]\n",
    "x_test = pd.DataFrame(arcpy.da.FeatureClassToNumPyArray(house_test,(\"longitude\",\"latitude\",\"dist\",\"cos\",\"sin\")))\n",
    "\n",
    "x_train.shape,y_train.shape,x_test.shape"
   ]
  },
  {
   "cell_type": "code",
   "execution_count": 24,
   "metadata": {},
   "outputs": [],
   "source": [
    "from sklearn.neural_network import MLPClassifier\n",
    "mlp = MLPClassifier(hidden_layer_sizes=(13,13,13),max_iter=500)\n",
    "mlp.fit(x_train,y_train)\n",
    "predictions = mlp.predict(x_test)"
   ]
  },
  {
   "cell_type": "code",
   "execution_count": 22,
   "metadata": {},
   "outputs": [
    {
     "data": {
      "text/plain": [
       "34872.721587371765"
      ]
     },
     "execution_count": 22,
     "metadata": {},
     "output_type": "execute_result"
    }
   ],
   "source": [
    "import numpy as np\n",
    "price = arcpy.da.FeatureClassToNumPyArray(house_test,(\"price\"))\n",
    "\n",
    "pred = []\n",
    "for i in predictions:\n",
    "    pred.append(i)\n",
    "pred = pd.DataFrame(pred)\n",
    "price = pd.DataFrame(price)\n",
    "price[\"pred\"] = pred\n",
    "rmse = math.sqrt(((price[\"price\"]-price[\"pred\"])**2).mean())\n",
    "rmse"
   ]
  },
  {
   "cell_type": "code",
   "execution_count": 25,
   "metadata": {},
   "outputs": [],
   "source": [
    "# 然后用svm试一下：\n",
    "from sklearn.svm import SVC, LinearSVC\n",
    "svc = SVC()\n",
    "svc.fit(x_train, y_train)\n",
    "predictions = svc.predict(x_test)"
   ]
  },
  {
   "cell_type": "code",
   "execution_count": 26,
   "metadata": {},
   "outputs": [
    {
     "data": {
      "text/plain": [
       "39433.971183267335"
      ]
     },
     "execution_count": 26,
     "metadata": {},
     "output_type": "execute_result"
    }
   ],
   "source": [
    "import numpy as np\n",
    "price = arcpy.da.FeatureClassToNumPyArray(house_test,(\"price\"))\n",
    "\n",
    "pred = []\n",
    "for i in predictions:\n",
    "    pred.append(i)\n",
    "pred = pd.DataFrame(pred)\n",
    "price = pd.DataFrame(price)\n",
    "price[\"pred\"] = pred\n",
    "rmse = math.sqrt(((price[\"price\"]-price[\"pred\"])**2).mean())\n",
    "rmse"
   ]
  },
  {
   "cell_type": "code",
   "execution_count": 1,
   "metadata": {},
   "outputs": [],
   "source": [
    "# 然后尝试第二篇paper中的方法，他使用的特征是x,y,xy,x2,y2\n",
    "import arcpy\n",
    "house_train = r\"E:\\12. githubR\\Machine-learning-geostatistics\\group1\\group1.gdb\\train\"\n",
    "house_test = r\"E:\\12. githubR\\Machine-learning-geostatistics\\group1\\group1.gdb\\test\"\n",
    "house_full = r\"D:\\workspace\\normal\\geostatistic\\geostatistic.gdb\\train_Merge\""
   ]
  },
  {
   "cell_type": "code",
   "execution_count": 2,
   "metadata": {},
   "outputs": [
    {
     "data": {
      "text/plain": [
       "((2322, 5), (2322,), (580, 5))"
      ]
     },
     "execution_count": 2,
     "metadata": {},
     "output_type": "execute_result"
    }
   ],
   "source": [
    "import pandas as pd\n",
    "x_train = pd.DataFrame(arcpy.da.FeatureClassToNumPyArray(house_train,(\"longitude\",\"latitude\",\"price\"))).drop(\"price\",1)\n",
    "y_train = pd.DataFrame(arcpy.da.FeatureClassToNumPyArray(house_train,(\"longitude\",\"latitude\",\"price\")))[\"price\"]\n",
    "x_test = pd.DataFrame(arcpy.da.FeatureClassToNumPyArray(house_test,(\"longitude\",\"latitude\")))\n",
    "\n",
    "x_train[\"xy\"] = x_train[\"longitude\"]*x_train[\"latitude\"]\n",
    "x_train[\"x2\"] = x_train[\"longitude\"]*x_train[\"longitude\"]\n",
    "x_train[\"y2\"] = x_train[\"latitude\"]*x_train[\"latitude\"]\n",
    "\n",
    "x_test[\"xy\"] = x_test[\"longitude\"]*x_test[\"latitude\"]\n",
    "x_test[\"x2\"] = x_test[\"longitude\"]*x_test[\"longitude\"]\n",
    "x_test[\"y2\"] = x_test[\"latitude\"]*x_test[\"latitude\"]\n",
    "\n",
    "x_train.shape,y_train.shape,x_test.shape"
   ]
  },
  {
   "cell_type": "code",
   "execution_count": 3,
   "metadata": {},
   "outputs": [],
   "source": [
    "from sklearn.neural_network import MLPClassifier\n",
    "mlp = MLPClassifier(hidden_layer_sizes=(13,13,13),max_iter=500)\n",
    "mlp.fit(x_train,y_train)\n",
    "predictions = mlp.predict(x_test)"
   ]
  },
  {
   "cell_type": "code",
   "execution_count": 4,
   "metadata": {},
   "outputs": [
    {
     "data": {
      "text/plain": [
       "28335.897902843044"
      ]
     },
     "execution_count": 4,
     "metadata": {},
     "output_type": "execute_result"
    }
   ],
   "source": [
    "import numpy as np\n",
    "price = arcpy.da.FeatureClassToNumPyArray(house_test,(\"price\"))\n",
    "\n",
    "pred = []\n",
    "for i in predictions:\n",
    "    pred.append(i)\n",
    "pred = pd.DataFrame(pred)\n",
    "price = pd.DataFrame(price)\n",
    "price[\"pred\"] = pred\n",
    "rmse = math.sqrt(((price[\"price\"]-price[\"pred\"])**2).mean())\n",
    "rmse"
   ]
  }
 ],
 "metadata": {
  "kernelspec": {
   "display_name": "Python 3",
   "language": "python",
   "name": "python3"
  },
  "language_info": {
   "codemirror_mode": {
    "name": "ipython",
    "version": 3
   },
   "file_extension": ".py",
   "mimetype": "text/x-python",
   "name": "python",
   "nbconvert_exporter": "python",
   "pygments_lexer": "ipython3",
   "version": "3.6.2"
  }
 },
 "nbformat": 4,
 "nbformat_minor": 2
}
